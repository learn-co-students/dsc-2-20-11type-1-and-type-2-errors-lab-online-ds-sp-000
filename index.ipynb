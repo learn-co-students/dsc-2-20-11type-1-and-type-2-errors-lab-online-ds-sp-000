{
 "cells": [
  {
   "cell_type": "markdown",
   "metadata": {},
   "source": [
    "\n",
    "# Type 1 and Type 2 errors - Lab\n",
    "\n",
    "## Introduction\n",
    "\n",
    "In this lab, you'll run some of your own simulations to learn more about type 1 and type 2 errors. Remember that, the result of a statistical hypothesis test and the corresponding decision of whether to reject or accept the null hypothesis is not infallible. A test provides evidence for or against the null hypothesis and then you decide whether to accept or reject it based on that evidence, but the evidence may lack the strength to arrive at the correct conclusion. Incorrect conclusions made from hypothesis tests fall in one of two categories, i.e. [Type 1 and Type 2 erros](https://en.wikipedia.org/wiki/Type_I_and_type_II_errors) By running some of these simulations, you should have a better idea of why a 95% confidence level is often used for hypothesis testing.\n",
    "\n",
    "\n",
    "## Objectives\n",
    "\n",
    "You will be able to:\n",
    "\n",
    "* Explain why alpha = 0.05 is chosen as the cut off point for rejecting Null hypothesis in most scientific experiments\n",
    "* Simulate Type I and Type II errors with alpha control to observe the output of an experiment\n",
    "* Describe and differentiate between TYPE I and TYPE II errors\n",
    "* Understand alpha and beta for representing false positive and false negative values"
   ]
  },
  {
   "cell_type": "markdown",
   "metadata": {},
   "source": [
    "## Alpha and Beta\n",
    "\n",
    "**Alpha (α):** is the probability of a type I error i.e. finding a difference when a difference does not exist. \n",
    "\n",
    "Most medical literature uses an alpha cut-off of 5% (0.05), indicating a 5% chance that a significant difference is actually due to chance and is not a true difference. \n",
    "\n",
    "**Beta (β):** is the probability of a type II error i.e. not detecting a difference when one actually exists. \n",
    "\n",
    "Beta is directly related to study power (Power = 1 – β) which we shall see in the next lesson. Most medical literature uses a beta cut-off of 20% (0.2), indicating a 20% chance that a significant difference is missed. \n"
   ]
  },
  {
   "cell_type": "markdown",
   "metadata": {},
   "source": [
    "Let's try to simulate and visualize this phenomenon using some Python code."
   ]
  },
  {
   "cell_type": "code",
   "execution_count": 1,
   "metadata": {},
   "outputs": [],
   "source": [
    "import numpy as np\n",
    "import pandas as pd\n",
    "import scipy.stats as stats\n",
    "import matplotlib.pyplot as plt\n",
    "import math\n",
    "import random \n",
    "\n",
    "import seaborn as sns\n",
    "sns.set(color_codes=True)"
   ]
  },
  {
   "cell_type": "markdown",
   "metadata": {},
   "source": [
    " First, we create a population of 1000 elements with a mean of 100 and a standard deviation of 20."
   ]
  },
  {
   "cell_type": "code",
   "execution_count": 4,
   "metadata": {},
   "outputs": [
    {
     "name": "stderr",
     "output_type": "stream",
     "text": [
      "/anaconda3/envs/learn-env/lib/python3.6/site-packages/scipy/stats/stats.py:1713: FutureWarning: Using a non-tuple sequence for multidimensional indexing is deprecated; use `arr[tuple(seq)]` instead of `arr[seq]`. In the future this will be interpreted as an array index, `arr[np.array(seq)]`, which will result either in an error or a different result.\n",
      "  return np.add.reduce(sorted[indexer] * weights, axis=axis) / sumval\n"
     ]
    },
    {
     "data": {
      "text/plain": [
       "<matplotlib.axes._subplots.AxesSubplot at 0x1a165b7d68>"
      ]
     },
     "execution_count": 4,
     "metadata": {},
     "output_type": "execute_result"
    },
    {
     "data": {
      "image/png": "[encoded data removed]",
      "text/plain": [
       "<Figure size 432x288 with 1 Axes>"
      ]
     },
     "metadata": {
      "needs_background": "light"
     },
     "output_type": "display_data"
    }
   ],
   "source": [
    "# Create a population with mean=100 and sd=20 and size = 1000\n",
    "pop = np.random.normal(100, 20, 1000)\n",
    "pop.dtype\n",
    "sns.distplot(pop)"
   ]
  },
  {
   "cell_type": "markdown",
   "metadata": {},
   "source": [
    "Lets take two sample from this population and comment of the difference between their and means and standard deviations. How would you ensure the independance between elements of these samples? "
   ]
  },
  {
   "cell_type": "code",
   "execution_count": 8,
   "metadata": {},
   "outputs": [
    {
     "name": "stdout",
     "output_type": "stream",
     "text": [
      "Sample 1 Summary\n"
     ]
    },
    {
     "data": {
      "text/plain": [
       "DescribeResult(nobs=100, minmax=(60.58353788123757, 153.03660647161075), mean=101.3201111985154, variance=443.9586625333429, skewness=0.013943861888148215, kurtosis=-0.7949813461463404)"
      ]
     },
     "execution_count": 8,
     "metadata": {},
     "output_type": "execute_result"
    }
   ],
   "source": [
    "k = 100\n",
    "sample1 = np.random.choice(pop,100,replace=True)\n",
    "\n",
    "print (\"Sample 1 Summary\")\n",
    "stats.describe(sample1)"
   ]
  },
  {
   "cell_type": "code",
   "execution_count": 11,
   "metadata": {},
   "outputs": [
    {
     "name": "stdout",
     "output_type": "stream",
     "text": [
      "Sample 2 Summary\n"
     ]
    },
    {
     "data": {
      "text/plain": [
       "DescribeResult(nobs=100, minmax=(52.60354415084436, 146.36243408945927), mean=100.86368684308738, variance=434.793484322408, skewness=0.02822817097018702, kurtosis=-0.607170400294927)"
      ]
     },
     "execution_count": 11,
     "metadata": {},
     "output_type": "execute_result"
    }
   ],
   "source": [
    "sample2 = np.random.choice(pop,100,replace=True)\n",
    "print (\"Sample 2 Summary\")\n",
    "stats.describe(sample2)"
   ]
  },
  {
   "cell_type": "markdown",
   "metadata": {},
   "source": [
    "We can see can see that if we take two samples from this population, the difference between the mean of samples 1 and 2 is very small small (this can be tried repeatedly). We must sample with replacement in order to ensure the independance assumption between elements of the sample. \n",
    "\n",
    "There is, however, still a probability of seeing very large difference between values, even though they’re estimates of the same population parameters. In a statistical setting we’d interpret these unusually large differences as evidence that the two samples are statistically different. It depends on how you define statistical significance. In statistical tests this is done by setting a significance threshold `α` (alpha). Alpha controls how often we’ll get a type 1 error. A type 1 error occurs when our statistical test erroneously indicates a significant result.\n",
    "\n",
    "We can run two sample t-test with independance assumption on these sample and as expected, the null hypothesis will be proven true due to similarities between distributions. We can also visualize the distribution to confirm the similarity between means and SDs. "
   ]
  },
  {
   "cell_type": "code",
   "execution_count": 13,
   "metadata": {},
   "outputs": [
    {
     "data": {
      "text/plain": [
       "Ttest_indResult(statistic=0.1539698233089776, pvalue=0.8777903479594935)"
      ]
     },
     "execution_count": 13,
     "metadata": {},
     "output_type": "execute_result"
    }
   ],
   "source": [
    "# test the sample means\n",
    "stats.ttest_ind(sample1, sample2)"
   ]
  },
  {
   "cell_type": "code",
   "execution_count": 14,
   "metadata": {},
   "outputs": [
    {
     "name": "stderr",
     "output_type": "stream",
     "text": [
      "/anaconda3/envs/learn-env/lib/python3.6/site-packages/scipy/stats/stats.py:1713: FutureWarning: Using a non-tuple sequence for multidimensional indexing is deprecated; use `arr[tuple(seq)]` instead of `arr[seq]`. In the future this will be interpreted as an array index, `arr[np.array(seq)]`, which will result either in an error or a different result.\n",
      "  return np.add.reduce(sorted[indexer] * weights, axis=axis) / sumval\n"
     ]
    },
    {
     "data": {
      "image/png": "[encoded data removed]",
      "text/plain": [
       "<Figure size 432x288 with 1 Axes>"
      ]
     },
     "metadata": {
      "needs_background": "light"
     },
     "output_type": "display_data"
    }
   ],
   "source": [
    "plt.figure(\"Test Samples\")\n",
    "sns.distplot(sample1, label='Sample1') \n",
    "sns.distplot(sample2, label='Sample2')\n",
    "plt.legend()\n",
    "plt.show()\n"
   ]
  },
  {
   "cell_type": "markdown",
   "metadata": {},
   "source": [
    "## Simulating Type I and II errors\n",
    "\n",
    "### Type I error\n",
    "TYPE I error describes a situation where you reject the null hypothesis when it is actually true. This type of error is also known as a \"false positive\" or \"false hit\". The type 1 error rate is equal to the significance level α, so setting a higher confidence level (and therefore lower alpha) reduces the chances of getting a false positive."
   ]
  },
  {
   "cell_type": "markdown",
   "metadata": {},
   "source": [
    "\n",
    "\n",
    "### How alpha affects the prevalence of TYPE I errors.\n",
    "\n",
    "Next, we shall see how alpha affects the rate of type 1 errors. \n",
    "\n",
    "> **Exercise:** Write a routine in Python to encapsulate the code shown above in order to repeat hypothesis tests on two randomly drawn distribution. The t-test will mostly fail to reject the null hypothesis, except, when by random chance you get a set of **extremely** different samples thus reject the null hypothesis (TYPE I ERROR). The frequency of such bad results depends upon the value of alpha. \n",
    "\n",
    "* Step 1: Create a population distribution (as shown above) \n",
    "* Step 2: Specify a number of hypothesis tests in numTests = 1000\n",
    "* Step 3: Create a list of alpha values to explore (alpha_set) = [0.001, 0.01, 0.05, 0.1, 0.2, 0.5]\n",
    "* Step 4: Create a pandas dataframe (sig_tests) to store 1000x5 = 5000 test results. \n",
    "* Step 5: Repeatedly take two random samples from population and run independant t-tests. \n",
    "* Step 6: Store P_value, alpha and a boolean variable to show whether null hypothesis was rejected or not (i.e. if p-value is less than alpha), for each of 5000 tests. \n",
    "* Step 7: Summarize/aggregate the results for presentation in a meaningful manner. \n"
   ]
  },
  {
   "cell_type": "code",
   "execution_count": 16,
   "metadata": {},
   "outputs": [],
   "source": [
    "# Solution \n",
    "\n",
    "import pandas as pd\n",
    "\n",
    "numTests = 1000\n",
    "alphaSet = [0.001, 0.01, 0.05, 0.1, 0.2, 0.5]\n",
    "columns = ['err', 'p_val', 'alpha']\n",
    "sigTests = pd.DataFrame(columns=columns)\n",
    "\n",
    "# Create a population with mean=100 and sd=20 and size = 1000\n",
    "pop = np.random.normal(100, 20, 1000)\n",
    "\n",
    "# Create a counter for dataframe index values\n",
    "counter = 1"
   ]
  },
  {
   "cell_type": "code",
   "execution_count": 17,
   "metadata": {},
   "outputs": [],
   "source": [
    "# Run the t-test on samples from distribution numTests x slphaSet times\n",
    "\n",
    "for i in range(1,numTests+1):\n",
    "    \n",
    "    for alpha in alphaSet:\n",
    "\n",
    "        # take two samples from the same population\n",
    "            samp1 = np.random.choice(pop,100,replace=True)\n",
    "            samp2 = np.random.choice(pop,100,replace=True)\n",
    "\n",
    "            # test sample means\n",
    "            result = stats.ttest_ind(samp1, samp2)\n",
    "\n",
    "            # Evaluate whether Null hypothesis for TYPE I error\n",
    "            if result[1] < alpha:\n",
    "                 sigTests.loc[counter] = [1, result[1], alpha]\n",
    "            else:\n",
    "                 sigTests.loc[counter] = [0, result[1], alpha]\n",
    "\n",
    "            counter += 1"
   ]
  },
  {
   "cell_type": "code",
   "execution_count": 9,
   "metadata": {},
   "outputs": [
    {
     "data": {
      "text/html": [
       "<div>\n",
       "<style scoped>\n",
       "    .dataframe tbody tr th:only-of-type {\n",
       "        vertical-align: middle;\n",
       "    }\n",
       "\n",
       "    .dataframe tbody tr th {\n",
       "        vertical-align: top;\n",
       "    }\n",
       "\n",
       "    .dataframe thead th {\n",
       "        text-align: right;\n",
       "    }\n",
       "</style>\n",
       "<table border=\"1\" class=\"dataframe\">\n",
       "  <thead>\n",
       "    <tr style=\"text-align: right;\">\n",
       "      <th></th>\n",
       "      <th>err</th>\n",
       "      <th>p_val</th>\n",
       "      <th>alpha</th>\n",
       "    </tr>\n",
       "  </thead>\n",
       "  <tbody>\n",
       "    <tr>\n",
       "      <th>1</th>\n",
       "      <td>0.0</td>\n",
       "      <td>0.035702</td>\n",
       "      <td>0.001</td>\n",
       "    </tr>\n",
       "    <tr>\n",
       "      <th>2</th>\n",
       "      <td>0.0</td>\n",
       "      <td>0.415147</td>\n",
       "      <td>0.010</td>\n",
       "    </tr>\n",
       "    <tr>\n",
       "      <th>3</th>\n",
       "      <td>0.0</td>\n",
       "      <td>0.265434</td>\n",
       "      <td>0.050</td>\n",
       "    </tr>\n",
       "    <tr>\n",
       "      <th>4</th>\n",
       "      <td>0.0</td>\n",
       "      <td>0.503467</td>\n",
       "      <td>0.100</td>\n",
       "    </tr>\n",
       "    <tr>\n",
       "      <th>5</th>\n",
       "      <td>0.0</td>\n",
       "      <td>0.413219</td>\n",
       "      <td>0.200</td>\n",
       "    </tr>\n",
       "  </tbody>\n",
       "</table>\n",
       "</div>"
      ],
      "text/plain": [
       "   err     p_val  alpha\n",
       "1  0.0  0.035702  0.001\n",
       "2  0.0  0.415147  0.010\n",
       "3  0.0  0.265434  0.050\n",
       "4  0.0  0.503467  0.100\n",
       "5  0.0  0.413219  0.200"
      ]
     },
     "execution_count": 9,
     "metadata": {},
     "output_type": "execute_result"
    }
   ],
   "source": [
    "sigTests.head()"
   ]
  },
  {
   "cell_type": "markdown",
   "metadata": {},
   "source": [
    "Now we have to summarize the results, this is done using pandas groupby() method which sums the “err” column for each level of alpha. The groupby method iterates over each value of alpha, selecting the type 1 error column for all rows with a specific level of alpha and then applies the sum function to the selection. "
   ]
  },
  {
   "cell_type": "code",
   "execution_count": 22,
   "metadata": {
    "scrolled": false
   },
   "outputs": [
    {
     "data": {
      "text/plain": [
       "<matplotlib.axes._subplots.AxesSubplot at 0x1a16ed1240>"
      ]
     },
     "execution_count": 22,
     "metadata": {},
     "output_type": "execute_result"
    },
    {
     "data": {
      "image/png": "[encoded data removed]",
      "text/plain": [
       "<Figure size 1080x432 with 1 Axes>"
      ]
     },
     "metadata": {},
     "output_type": "display_data"
    }
   ],
   "source": [
    "# group type 1 error by values of alpha\n",
    "plt.style.use('ggplot')\n",
    "plt.figure(figsize=(15, 6))\n",
    "group_error = sigTests.groupby('alpha')['err'].sum()\n",
    "group_error.plot.bar(title = \"TYPE I ERROR - FALSE POSITIVES\")"
   ]
  },
  {
   "cell_type": "markdown",
   "metadata": {},
   "source": [
    "Grouped data clearly shows that as value of alpha is increases from .001 to 0.5, the probability of TYPE I errors also increase.  "
   ]
  },
  {
   "cell_type": "markdown",
   "metadata": {},
   "source": [
    "### Type II error \n",
    "\n",
    "This error describes a situation where you fail to reject the null hypothesis when it is actually false. Type II error is also known as a \"false negative\" or \"miss\". The higher your confidence level, the more likely you are to make a type II error."
   ]
  },
  {
   "cell_type": "markdown",
   "metadata": {},
   "source": [
    "## How alpha affects the prevalence of TYPE II errors.\n",
    "\n",
    "> **Exercise** Write a code similar to above except samples should be taken from two different populations. introduce a new variable to represent the difference between two poulations. The hypothesis test should, in most cases, reject the Null hypothesis as samples belong to different populations, except, in extreme cases where there is no significant difference between samples i.e. a TYPE II error (False Negatives). Code should reflect how rate of false negatives is affected by alpha. "
   ]
  },
  {
   "cell_type": "code",
   "execution_count": 23,
   "metadata": {},
   "outputs": [],
   "source": [
    "# Solution\n",
    "\n",
    "numTests = 1000\n",
    "diff = 10\n",
    "ahpha_set =  [0.001, 0.01, 0.05, 0.1, 0.2, 0.5]\n",
    "columns = ['err', 'p_val', 'alpha']\n",
    "sigTests2 = pd.DataFrame(columns=columns)\n",
    "\n",
    "counter = 1\n",
    "\n",
    "for i in range(1,numTests+1):\n",
    "    \n",
    "    for alpha in alphaSet:\n",
    "\n",
    "        # take two samples from different populations\n",
    "            samp1 = np.random.normal(100, 20, 100)\n",
    "            samp2 = np.random.normal(100+diff, 20, 100)\n",
    "\n",
    "            # test sample means\n",
    "            result = stats.ttest_ind(samp1, samp2)\n",
    "\n",
    "            # Evaluate the Null hypothesis for TYPE II error (Note > as compared to < previously)\n",
    "            if result[1] > alpha:\n",
    "                 sigTests2.loc[counter] = [1, result[1], alpha]\n",
    "            else:\n",
    "                 sigTests2.loc[counter] = [0, result[1], alpha]\n",
    "\n",
    "            counter += 1"
   ]
  },
  {
   "cell_type": "markdown",
   "metadata": {},
   "source": [
    "Count of number of TYPE II errors according to alpha"
   ]
  },
  {
   "cell_type": "code",
   "execution_count": 25,
   "metadata": {},
   "outputs": [
    {
     "data": {
      "text/plain": [
       "<matplotlib.axes._subplots.AxesSubplot at 0x1a173ef860>"
      ]
     },
     "execution_count": 25,
     "metadata": {},
     "output_type": "execute_result"
    },
    {
     "data": {
      "image/png": "[encoded data removed]",
      "text/plain": [
       "<Figure size 1080x576 with 1 Axes>"
      ]
     },
     "metadata": {},
     "output_type": "display_data"
    }
   ],
   "source": [
    "group_error2 = sigTests2.groupby('alpha')['err'].sum()\n",
    "\n",
    "plt.figure(figsize=(15, 8))\n",
    "group_error2.plot.bar(title = \"Type II ERROR - FALSE NEGATIVES\")"
   ]
  },
  {
   "cell_type": "markdown",
   "metadata": {},
   "source": [
    "Grouped data clearly shows that as value of alpha is increases from .001 to 0.5, the probability of TYPE II errors decreases. \n",
    "\n",
    "### Why is an α level of 0.05 chosen as a cut-off for statistical significance?\n",
    "\n",
    "The α level of 0.05 is considered the best balance to avoid excessive type I or type II errors. \n",
    "\n",
    "\n",
    "If we decide to use a large value for alpha : \n",
    "\n",
    "* Increases the chance of rejecting the null hypothesis\n",
    "* The risk of a Type II error (false negative) is REDUCED\n",
    "* Risk of a Type I error (false positive) is INCREASED\n",
    "\n",
    "similarly, if we decide to use a very small value of alpha, it'll change the outcome as:\n",
    "* Increases the chance of accepting the null hypothesis\n",
    "* The risk of a Type I error (false positive) is REDUCED\n",
    "* Risk of a Type II error (false negative) is INCREASED\n",
    "\n",
    "From above, we can see that in statistical hypothesis testing, the more we try and avoid a Type I error (false positive), the more likely a Type II error (false negative) will occur. "
   ]
  },
  {
   "cell_type": "markdown",
   "metadata": {},
   "source": [
    "## Summary\n",
    "\n",
    "The statistical key point here is that there is always a trade off between false positives and false negatives. By increasing alpha the number of false positives increases but the number of false negatives decreases as shown in bar graphs. The value of alpha=0.05 is considered a reasonable compromise between these two types of errors. Within the concept of “signifigance” there is embedded a trade-off between these two types of errors. \n",
    "\n",
    "> Think of “signifigance” as a compromise, between false positives and negatives, not as absolute determination."
   ]
  }
 ],
 "metadata": {
  "kernelspec": {
   "display_name": "Python 3",
   "language": "python",
   "name": "python3"
  },
  "language_info": {
   "codemirror_mode": {
    "name": "ipython",
    "version": 3
   },
   "file_extension": ".py",
   "mimetype": "text/x-python",
   "name": "python",
   "nbconvert_exporter": "python",
   "pygments_lexer": "ipython3",
   "version": "3.6.6"
  }
 },
 "nbformat": 4,
 "nbformat_minor": 2
}
